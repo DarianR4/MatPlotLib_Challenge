{
 "cells": [
  {
   "cell_type": "markdown",
   "metadata": {},
   "source": [
    "## Observations and Insights "
   ]
  },
  {
   "cell_type": "markdown",
   "metadata": {},
   "source": []
  },
  {
   "cell_type": "code",
   "execution_count": 3,
   "metadata": {},
   "outputs": [
    {
     "output_type": "execute_result",
     "data": {
      "text/plain": [
       "    Mouse ID Drug Regimen     Sex  Age_months  Weight (g)\n",
       "0       k403     Ramicane    Male          21          16\n",
       "1       s185    Capomulin  Female           3          17\n",
       "2       x401    Capomulin  Female          16          15\n",
       "3       m601    Capomulin    Male          22          17\n",
       "4       g791     Ramicane    Male          11          16\n",
       "..       ...          ...     ...         ...         ...\n",
       "244     z314     Stelasyn  Female          21          28\n",
       "245     z435     Propriva  Female          12          26\n",
       "246     z581    Infubinol  Female          24          25\n",
       "247     z795     Naftisol  Female          13          29\n",
       "248     z969     Naftisol    Male           9          30\n",
       "\n",
       "[249 rows x 5 columns]"
      ],
      "text/html": "<div>\n<style scoped>\n    .dataframe tbody tr th:only-of-type {\n        vertical-align: middle;\n    }\n\n    .dataframe tbody tr th {\n        vertical-align: top;\n    }\n\n    .dataframe thead th {\n        text-align: right;\n    }\n</style>\n<table border=\"1\" class=\"dataframe\">\n  <thead>\n    <tr style=\"text-align: right;\">\n      <th></th>\n      <th>Mouse ID</th>\n      <th>Drug Regimen</th>\n      <th>Sex</th>\n      <th>Age_months</th>\n      <th>Weight (g)</th>\n    </tr>\n  </thead>\n  <tbody>\n    <tr>\n      <th>0</th>\n      <td>k403</td>\n      <td>Ramicane</td>\n      <td>Male</td>\n      <td>21</td>\n      <td>16</td>\n    </tr>\n    <tr>\n      <th>1</th>\n      <td>s185</td>\n      <td>Capomulin</td>\n      <td>Female</td>\n      <td>3</td>\n      <td>17</td>\n    </tr>\n    <tr>\n      <th>2</th>\n      <td>x401</td>\n      <td>Capomulin</td>\n      <td>Female</td>\n      <td>16</td>\n      <td>15</td>\n    </tr>\n    <tr>\n      <th>3</th>\n      <td>m601</td>\n      <td>Capomulin</td>\n      <td>Male</td>\n      <td>22</td>\n      <td>17</td>\n    </tr>\n    <tr>\n      <th>4</th>\n      <td>g791</td>\n      <td>Ramicane</td>\n      <td>Male</td>\n      <td>11</td>\n      <td>16</td>\n    </tr>\n    <tr>\n      <th>...</th>\n      <td>...</td>\n      <td>...</td>\n      <td>...</td>\n      <td>...</td>\n      <td>...</td>\n    </tr>\n    <tr>\n      <th>244</th>\n      <td>z314</td>\n      <td>Stelasyn</td>\n      <td>Female</td>\n      <td>21</td>\n      <td>28</td>\n    </tr>\n    <tr>\n      <th>245</th>\n      <td>z435</td>\n      <td>Propriva</td>\n      <td>Female</td>\n      <td>12</td>\n      <td>26</td>\n    </tr>\n    <tr>\n      <th>246</th>\n      <td>z581</td>\n      <td>Infubinol</td>\n      <td>Female</td>\n      <td>24</td>\n      <td>25</td>\n    </tr>\n    <tr>\n      <th>247</th>\n      <td>z795</td>\n      <td>Naftisol</td>\n      <td>Female</td>\n      <td>13</td>\n      <td>29</td>\n    </tr>\n    <tr>\n      <th>248</th>\n      <td>z969</td>\n      <td>Naftisol</td>\n      <td>Male</td>\n      <td>9</td>\n      <td>30</td>\n    </tr>\n  </tbody>\n</table>\n<p>249 rows × 5 columns</p>\n</div>"
     },
     "metadata": {},
     "execution_count": 3
    }
   ],
   "source": [
    "# Dependencies and Setup\n",
    "import matplotlib.pyplot as plt\n",
    "import pandas as pd\n",
    "import scipy.stats as st\n",
    "\n",
    "\n",
    "# Study data files\n",
    "mouse_metadata_path = \"data/Mouse_metadata.csv\"\n",
    "study_results_path = \"data/Study_results.csv\"\n",
    "\n",
    "# Read the mouse data and the study results\n",
    "mouse_metadata = pd.read_csv(mouse_metadata_path)\n",
    "study_results = pd.read_csv(study_results_path)\n",
    "\n",
    "mouse_metadata\n"
   ]
  },
  {
   "cell_type": "code",
   "execution_count": 4,
   "metadata": {},
   "outputs": [
    {
     "output_type": "execute_result",
     "data": {
      "text/plain": [
       "     Mouse ID  Timepoint  Tumor Volume (mm3)  Metastatic Sites\n",
       "0        b128          0           45.000000                 0\n",
       "1        f932          0           45.000000                 0\n",
       "2        g107          0           45.000000                 0\n",
       "3        a457          0           45.000000                 0\n",
       "4        c819          0           45.000000                 0\n",
       "...       ...        ...                 ...               ...\n",
       "1888     r944         45           41.581521                 2\n",
       "1889     u364         45           31.023923                 3\n",
       "1890     p438         45           61.433892                 1\n",
       "1891     x773         45           58.634971                 4\n",
       "1892     b879         45           72.555239                 2\n",
       "\n",
       "[1893 rows x 4 columns]"
      ],
      "text/html": "<div>\n<style scoped>\n    .dataframe tbody tr th:only-of-type {\n        vertical-align: middle;\n    }\n\n    .dataframe tbody tr th {\n        vertical-align: top;\n    }\n\n    .dataframe thead th {\n        text-align: right;\n    }\n</style>\n<table border=\"1\" class=\"dataframe\">\n  <thead>\n    <tr style=\"text-align: right;\">\n      <th></th>\n      <th>Mouse ID</th>\n      <th>Timepoint</th>\n      <th>Tumor Volume (mm3)</th>\n      <th>Metastatic Sites</th>\n    </tr>\n  </thead>\n  <tbody>\n    <tr>\n      <th>0</th>\n      <td>b128</td>\n      <td>0</td>\n      <td>45.000000</td>\n      <td>0</td>\n    </tr>\n    <tr>\n      <th>1</th>\n      <td>f932</td>\n      <td>0</td>\n      <td>45.000000</td>\n      <td>0</td>\n    </tr>\n    <tr>\n      <th>2</th>\n      <td>g107</td>\n      <td>0</td>\n      <td>45.000000</td>\n      <td>0</td>\n    </tr>\n    <tr>\n      <th>3</th>\n      <td>a457</td>\n      <td>0</td>\n      <td>45.000000</td>\n      <td>0</td>\n    </tr>\n    <tr>\n      <th>4</th>\n      <td>c819</td>\n      <td>0</td>\n      <td>45.000000</td>\n      <td>0</td>\n    </tr>\n    <tr>\n      <th>...</th>\n      <td>...</td>\n      <td>...</td>\n      <td>...</td>\n      <td>...</td>\n    </tr>\n    <tr>\n      <th>1888</th>\n      <td>r944</td>\n      <td>45</td>\n      <td>41.581521</td>\n      <td>2</td>\n    </tr>\n    <tr>\n      <th>1889</th>\n      <td>u364</td>\n      <td>45</td>\n      <td>31.023923</td>\n      <td>3</td>\n    </tr>\n    <tr>\n      <th>1890</th>\n      <td>p438</td>\n      <td>45</td>\n      <td>61.433892</td>\n      <td>1</td>\n    </tr>\n    <tr>\n      <th>1891</th>\n      <td>x773</td>\n      <td>45</td>\n      <td>58.634971</td>\n      <td>4</td>\n    </tr>\n    <tr>\n      <th>1892</th>\n      <td>b879</td>\n      <td>45</td>\n      <td>72.555239</td>\n      <td>2</td>\n    </tr>\n  </tbody>\n</table>\n<p>1893 rows × 4 columns</p>\n</div>"
     },
     "metadata": {},
     "execution_count": 4
    }
   ],
   "source": [
    "study_results"
   ]
  },
  {
   "cell_type": "code",
   "execution_count": 9,
   "metadata": {},
   "outputs": [
    {
     "output_type": "execute_result",
     "data": {
      "text/plain": [
       "     Mouse ID Drug Regimen   Sex  Age_months  Weight (g)  Timepoint  \\\n",
       "0        k403     Ramicane  Male          21          16          0   \n",
       "1        k403     Ramicane  Male          21          16          5   \n",
       "2        k403     Ramicane  Male          21          16         10   \n",
       "3        k403     Ramicane  Male          21          16         15   \n",
       "4        k403     Ramicane  Male          21          16         20   \n",
       "...       ...          ...   ...         ...         ...        ...   \n",
       "1888     z969     Naftisol  Male           9          30         25   \n",
       "1889     z969     Naftisol  Male           9          30         30   \n",
       "1890     z969     Naftisol  Male           9          30         35   \n",
       "1891     z969     Naftisol  Male           9          30         40   \n",
       "1892     z969     Naftisol  Male           9          30         45   \n",
       "\n",
       "      Tumor Volume (mm3)  Metastatic Sites  \n",
       "0              45.000000                 0  \n",
       "1              38.825898                 0  \n",
       "2              35.014271                 1  \n",
       "3              34.223992                 1  \n",
       "4              32.997729                 1  \n",
       "...                  ...               ...  \n",
       "1888           63.145652                 2  \n",
       "1889           65.841013                 3  \n",
       "1890           69.176246                 4  \n",
       "1891           70.314904                 4  \n",
       "1892           73.867845                 4  \n",
       "\n",
       "[1893 rows x 8 columns]"
      ],
      "text/html": "<div>\n<style scoped>\n    .dataframe tbody tr th:only-of-type {\n        vertical-align: middle;\n    }\n\n    .dataframe tbody tr th {\n        vertical-align: top;\n    }\n\n    .dataframe thead th {\n        text-align: right;\n    }\n</style>\n<table border=\"1\" class=\"dataframe\">\n  <thead>\n    <tr style=\"text-align: right;\">\n      <th></th>\n      <th>Mouse ID</th>\n      <th>Drug Regimen</th>\n      <th>Sex</th>\n      <th>Age_months</th>\n      <th>Weight (g)</th>\n      <th>Timepoint</th>\n      <th>Tumor Volume (mm3)</th>\n      <th>Metastatic Sites</th>\n    </tr>\n  </thead>\n  <tbody>\n    <tr>\n      <th>0</th>\n      <td>k403</td>\n      <td>Ramicane</td>\n      <td>Male</td>\n      <td>21</td>\n      <td>16</td>\n      <td>0</td>\n      <td>45.000000</td>\n      <td>0</td>\n    </tr>\n    <tr>\n      <th>1</th>\n      <td>k403</td>\n      <td>Ramicane</td>\n      <td>Male</td>\n      <td>21</td>\n      <td>16</td>\n      <td>5</td>\n      <td>38.825898</td>\n      <td>0</td>\n    </tr>\n    <tr>\n      <th>2</th>\n      <td>k403</td>\n      <td>Ramicane</td>\n      <td>Male</td>\n      <td>21</td>\n      <td>16</td>\n      <td>10</td>\n      <td>35.014271</td>\n      <td>1</td>\n    </tr>\n    <tr>\n      <th>3</th>\n      <td>k403</td>\n      <td>Ramicane</td>\n      <td>Male</td>\n      <td>21</td>\n      <td>16</td>\n      <td>15</td>\n      <td>34.223992</td>\n      <td>1</td>\n    </tr>\n    <tr>\n      <th>4</th>\n      <td>k403</td>\n      <td>Ramicane</td>\n      <td>Male</td>\n      <td>21</td>\n      <td>16</td>\n      <td>20</td>\n      <td>32.997729</td>\n      <td>1</td>\n    </tr>\n    <tr>\n      <th>...</th>\n      <td>...</td>\n      <td>...</td>\n      <td>...</td>\n      <td>...</td>\n      <td>...</td>\n      <td>...</td>\n      <td>...</td>\n      <td>...</td>\n    </tr>\n    <tr>\n      <th>1888</th>\n      <td>z969</td>\n      <td>Naftisol</td>\n      <td>Male</td>\n      <td>9</td>\n      <td>30</td>\n      <td>25</td>\n      <td>63.145652</td>\n      <td>2</td>\n    </tr>\n    <tr>\n      <th>1889</th>\n      <td>z969</td>\n      <td>Naftisol</td>\n      <td>Male</td>\n      <td>9</td>\n      <td>30</td>\n      <td>30</td>\n      <td>65.841013</td>\n      <td>3</td>\n    </tr>\n    <tr>\n      <th>1890</th>\n      <td>z969</td>\n      <td>Naftisol</td>\n      <td>Male</td>\n      <td>9</td>\n      <td>30</td>\n      <td>35</td>\n      <td>69.176246</td>\n      <td>4</td>\n    </tr>\n    <tr>\n      <th>1891</th>\n      <td>z969</td>\n      <td>Naftisol</td>\n      <td>Male</td>\n      <td>9</td>\n      <td>30</td>\n      <td>40</td>\n      <td>70.314904</td>\n      <td>4</td>\n    </tr>\n    <tr>\n      <th>1892</th>\n      <td>z969</td>\n      <td>Naftisol</td>\n      <td>Male</td>\n      <td>9</td>\n      <td>30</td>\n      <td>45</td>\n      <td>73.867845</td>\n      <td>4</td>\n    </tr>\n  </tbody>\n</table>\n<p>1893 rows × 8 columns</p>\n</div>"
     },
     "metadata": {},
     "execution_count": 9
    }
   ],
   "source": [
    "\n",
    "# Combine the data into a single dataset\n",
    "mousedata_studyresults = pd.merge(mouse_metadata, study_results, on=\"Mouse ID\")\n",
    "\n",
    "# Display the data table for preview\n",
    "mousedata_studyresults"
   ]
  },
  {
   "cell_type": "code",
   "execution_count": 75,
   "metadata": {},
   "outputs": [
    {
     "output_type": "execute_result",
     "data": {
      "text/plain": [
       "249"
      ]
     },
     "metadata": {},
     "execution_count": 75
    }
   ],
   "source": [
    "# Checking the number of mice.\n",
    "total_unique_values = mousedata_studyresults.nunique()\n",
    "total_mice = total_unique_values[\"Mouse ID\"]\n",
    "total_mice"
   ]
  },
  {
   "cell_type": "code",
   "execution_count": 99,
   "metadata": {},
   "outputs": [
    {
     "output_type": "execute_result",
     "data": {
      "text/plain": [
       "array(['g989'], dtype=object)"
      ]
     },
     "metadata": {},
     "execution_count": 99
    }
   ],
   "source": [
    "# Getting the duplicate mice by ID number that shows up for Mouse ID and Timepoint. \n",
    "\n",
    "duplicate_mousedata = mousedata_studyresults.loc[mousedata_studyresults.duplicated(subset=['Mouse ID','Timepoint']),'Mouse ID'].unique()\n",
    "\n",
    "\n",
    "# Optional: Get all the data for the duplicate mouse ID. \n",
    "duplicate_mousedata"
   ]
  },
  {
   "cell_type": "code",
   "execution_count": 103,
   "metadata": {},
   "outputs": [
    {
     "output_type": "execute_result",
     "data": {
      "text/plain": [
       "  Mouse ID Drug Regimen   Sex  Age_months  Weight (g)  Timepoint  \\\n",
       "0     k403     Ramicane  Male          21          16          0   \n",
       "1     k403     Ramicane  Male          21          16          5   \n",
       "2     k403     Ramicane  Male          21          16         10   \n",
       "3     k403     Ramicane  Male          21          16         15   \n",
       "4     k403     Ramicane  Male          21          16         20   \n",
       "\n",
       "   Tumor Volume (mm3)  Metastatic Sites  \n",
       "0           45.000000                 0  \n",
       "1           38.825898                 0  \n",
       "2           35.014271                 1  \n",
       "3           34.223992                 1  \n",
       "4           32.997729                 1  "
      ],
      "text/html": "<div>\n<style scoped>\n    .dataframe tbody tr th:only-of-type {\n        vertical-align: middle;\n    }\n\n    .dataframe tbody tr th {\n        vertical-align: top;\n    }\n\n    .dataframe thead th {\n        text-align: right;\n    }\n</style>\n<table border=\"1\" class=\"dataframe\">\n  <thead>\n    <tr style=\"text-align: right;\">\n      <th></th>\n      <th>Mouse ID</th>\n      <th>Drug Regimen</th>\n      <th>Sex</th>\n      <th>Age_months</th>\n      <th>Weight (g)</th>\n      <th>Timepoint</th>\n      <th>Tumor Volume (mm3)</th>\n      <th>Metastatic Sites</th>\n    </tr>\n  </thead>\n  <tbody>\n    <tr>\n      <th>0</th>\n      <td>k403</td>\n      <td>Ramicane</td>\n      <td>Male</td>\n      <td>21</td>\n      <td>16</td>\n      <td>0</td>\n      <td>45.000000</td>\n      <td>0</td>\n    </tr>\n    <tr>\n      <th>1</th>\n      <td>k403</td>\n      <td>Ramicane</td>\n      <td>Male</td>\n      <td>21</td>\n      <td>16</td>\n      <td>5</td>\n      <td>38.825898</td>\n      <td>0</td>\n    </tr>\n    <tr>\n      <th>2</th>\n      <td>k403</td>\n      <td>Ramicane</td>\n      <td>Male</td>\n      <td>21</td>\n      <td>16</td>\n      <td>10</td>\n      <td>35.014271</td>\n      <td>1</td>\n    </tr>\n    <tr>\n      <th>3</th>\n      <td>k403</td>\n      <td>Ramicane</td>\n      <td>Male</td>\n      <td>21</td>\n      <td>16</td>\n      <td>15</td>\n      <td>34.223992</td>\n      <td>1</td>\n    </tr>\n    <tr>\n      <th>4</th>\n      <td>k403</td>\n      <td>Ramicane</td>\n      <td>Male</td>\n      <td>21</td>\n      <td>16</td>\n      <td>20</td>\n      <td>32.997729</td>\n      <td>1</td>\n    </tr>\n  </tbody>\n</table>\n</div>"
     },
     "metadata": {},
     "execution_count": 103
    }
   ],
   "source": [
    "# Create a clean DataFrame by dropping the duplicate mouse by its ID.\n",
    "\n",
    "# what i initially tried\n",
    "# clean_mousedata_studyresults = mousedata_studyresults[mousedata_studyresults.drop_duplicates(['Mouse ID','Timepoint'])]\n",
    "\n",
    "# Checking the number of mice in the clean DataFrame.\n",
    "clean_mousedata_studyresults = mousedata_studyresults[mousedata_studyresults['Mouse ID'].isin(duplicate_mousedata)==False]\n",
    "\n",
    "\n",
    "clean_mousedata_studyresults.head()\n",
    "\n"
   ]
  },
  {
   "cell_type": "markdown",
   "metadata": {},
   "source": [
    "## Summary Statistics"
   ]
  },
  {
   "cell_type": "code",
   "execution_count": 104,
   "metadata": {},
   "outputs": [],
   "source": [
    "# Generate a summary statistics table of mean, median, variance, standard deviation, and SEM of the tumor volume for each regimen\n",
    "import numpy as np\n",
    "\n",
    "# Use groupby and summary statistical methods to calculate the following properties of each drug regimen: \n",
    "# mean, median, variance, standard deviation, and SEM of the tumor volume. \n",
    "meanTV_drug = clean_mousedata_studyresults.groupby(by=['Drug Regimen']).mean()\n",
    "sum_meanTV = meanTV_drug[\"Tumor Volume (mm3)\"]\n",
    "\n",
    "medianTV_drug = clean_mousedata_studyresults.groupby(by=['Drug Regimen']).median()\n",
    "sum_medianTV = medianTV_drug[\"Tumor Volume (mm3)\"]\n",
    "\n",
    "varianceTV_drug = clean_mousedata_studyresults.groupby(by=['Drug Regimen']).var()\n",
    "sum_varTV = varianceTV_drug[\"Tumor Volume (mm3)\"]\n",
    "\n",
    "stdTV_drug = clean_mousedata_studyresults.groupby(by=['Drug Regimen']).std()\n",
    "sumb_stdTV = stdTV_drug[\"Tumor Volume (mm3)\"]\n",
    "\n",
    "semTV_drug = clean_mousedata_studyresults.groupby(by=['Drug Regimen']).sem()\n",
    "sum_semTV = semTV_drug[\"Tumor Volume (mm3)\"]\n",
    "\n",
    "\n",
    "# Assemble the resulting series into a single summary dataframe.\n",
    "\n",
    "summary_TV_bydrug = pd.DataFrame ({\"Mean\":[sum_meanTV],\"Median\":[sum_medianTV], \"Variance\":[sum_varTV],\"SEM\":[sum_semTV],\"Std Dev\":[sumb_stdTV]})\n",
    "\n"
   ]
  },
  {
   "cell_type": "code",
   "execution_count": 59,
   "metadata": {},
   "outputs": [
    {
     "output_type": "error",
     "ename": "KeyError",
     "evalue": "'Drug Regimen'",
     "traceback": [
      "\u001b[1;31m---------------------------------------------------------------------------\u001b[0m",
      "\u001b[1;31mKeyError\u001b[0m                                  Traceback (most recent call last)",
      "\u001b[1;32m<ipython-input-59-40d8bc0787ad>\u001b[0m in \u001b[0;36m<module>\u001b[1;34m\u001b[0m\n\u001b[0;32m      1\u001b[0m \u001b[1;31m# Generate a summary statistics table of mean, median, variance, standard deviation, and SEM of the tumor volume for each regimen\u001b[0m\u001b[1;33m\u001b[0m\u001b[1;33m\u001b[0m\u001b[1;33m\u001b[0m\u001b[0m\n\u001b[0;32m      2\u001b[0m \u001b[1;33m\u001b[0m\u001b[0m\n\u001b[1;32m----> 3\u001b[1;33m \u001b[0mtsummary_TV_bydrug\u001b[0m\u001b[1;33m=\u001b[0m\u001b[0msummary_TV_bydrug\u001b[0m\u001b[1;33m.\u001b[0m\u001b[0mgroupby\u001b[0m\u001b[1;33m(\u001b[0m\u001b[0mby\u001b[0m\u001b[1;33m=\u001b[0m\u001b[1;34m\"Drug Regimen\"\u001b[0m\u001b[1;33m)\u001b[0m\u001b[1;33m\u001b[0m\u001b[1;33m\u001b[0m\u001b[0m\n\u001b[0m\u001b[0;32m      4\u001b[0m \u001b[1;33m\u001b[0m\u001b[0m\n\u001b[0;32m      5\u001b[0m \u001b[1;31m# Using the aggregation method, produce the same summary statistics in a single line\u001b[0m\u001b[1;33m\u001b[0m\u001b[1;33m\u001b[0m\u001b[1;33m\u001b[0m\u001b[0m\n",
      "\u001b[1;32m~\\anaconda3\\lib\\site-packages\\pandas\\core\\frame.py\u001b[0m in \u001b[0;36mgroupby\u001b[1;34m(self, by, axis, level, as_index, sort, group_keys, squeeze, observed, dropna)\u001b[0m\n\u001b[0;32m   6509\u001b[0m         \u001b[0maxis\u001b[0m \u001b[1;33m=\u001b[0m \u001b[0mself\u001b[0m\u001b[1;33m.\u001b[0m\u001b[0m_get_axis_number\u001b[0m\u001b[1;33m(\u001b[0m\u001b[0maxis\u001b[0m\u001b[1;33m)\u001b[0m\u001b[1;33m\u001b[0m\u001b[1;33m\u001b[0m\u001b[0m\n\u001b[0;32m   6510\u001b[0m \u001b[1;33m\u001b[0m\u001b[0m\n\u001b[1;32m-> 6511\u001b[1;33m         return DataFrameGroupBy(\n\u001b[0m\u001b[0;32m   6512\u001b[0m             \u001b[0mobj\u001b[0m\u001b[1;33m=\u001b[0m\u001b[0mself\u001b[0m\u001b[1;33m,\u001b[0m\u001b[1;33m\u001b[0m\u001b[1;33m\u001b[0m\u001b[0m\n\u001b[0;32m   6513\u001b[0m             \u001b[0mkeys\u001b[0m\u001b[1;33m=\u001b[0m\u001b[0mby\u001b[0m\u001b[1;33m,\u001b[0m\u001b[1;33m\u001b[0m\u001b[1;33m\u001b[0m\u001b[0m\n",
      "\u001b[1;32m~\\anaconda3\\lib\\site-packages\\pandas\\core\\groupby\\groupby.py\u001b[0m in \u001b[0;36m__init__\u001b[1;34m(self, obj, keys, axis, level, grouper, exclusions, selection, as_index, sort, group_keys, squeeze, observed, mutated, dropna)\u001b[0m\n\u001b[0;32m    523\u001b[0m             \u001b[1;32mfrom\u001b[0m \u001b[0mpandas\u001b[0m\u001b[1;33m.\u001b[0m\u001b[0mcore\u001b[0m\u001b[1;33m.\u001b[0m\u001b[0mgroupby\u001b[0m\u001b[1;33m.\u001b[0m\u001b[0mgrouper\u001b[0m \u001b[1;32mimport\u001b[0m \u001b[0mget_grouper\u001b[0m\u001b[1;33m\u001b[0m\u001b[1;33m\u001b[0m\u001b[0m\n\u001b[0;32m    524\u001b[0m \u001b[1;33m\u001b[0m\u001b[0m\n\u001b[1;32m--> 525\u001b[1;33m             grouper, exclusions, obj = get_grouper(\n\u001b[0m\u001b[0;32m    526\u001b[0m                 \u001b[0mobj\u001b[0m\u001b[1;33m,\u001b[0m\u001b[1;33m\u001b[0m\u001b[1;33m\u001b[0m\u001b[0m\n\u001b[0;32m    527\u001b[0m                 \u001b[0mkeys\u001b[0m\u001b[1;33m,\u001b[0m\u001b[1;33m\u001b[0m\u001b[1;33m\u001b[0m\u001b[0m\n",
      "\u001b[1;32m~\\anaconda3\\lib\\site-packages\\pandas\\core\\groupby\\grouper.py\u001b[0m in \u001b[0;36mget_grouper\u001b[1;34m(obj, key, axis, level, sort, observed, mutated, validate, dropna)\u001b[0m\n\u001b[0;32m    779\u001b[0m                 \u001b[0min_axis\u001b[0m\u001b[1;33m,\u001b[0m \u001b[0mname\u001b[0m\u001b[1;33m,\u001b[0m \u001b[0mlevel\u001b[0m\u001b[1;33m,\u001b[0m \u001b[0mgpr\u001b[0m \u001b[1;33m=\u001b[0m \u001b[1;32mFalse\u001b[0m\u001b[1;33m,\u001b[0m \u001b[1;32mNone\u001b[0m\u001b[1;33m,\u001b[0m \u001b[0mgpr\u001b[0m\u001b[1;33m,\u001b[0m \u001b[1;32mNone\u001b[0m\u001b[1;33m\u001b[0m\u001b[1;33m\u001b[0m\u001b[0m\n\u001b[0;32m    780\u001b[0m             \u001b[1;32melse\u001b[0m\u001b[1;33m:\u001b[0m\u001b[1;33m\u001b[0m\u001b[1;33m\u001b[0m\u001b[0m\n\u001b[1;32m--> 781\u001b[1;33m                 \u001b[1;32mraise\u001b[0m \u001b[0mKeyError\u001b[0m\u001b[1;33m(\u001b[0m\u001b[0mgpr\u001b[0m\u001b[1;33m)\u001b[0m\u001b[1;33m\u001b[0m\u001b[1;33m\u001b[0m\u001b[0m\n\u001b[0m\u001b[0;32m    782\u001b[0m         \u001b[1;32melif\u001b[0m \u001b[0misinstance\u001b[0m\u001b[1;33m(\u001b[0m\u001b[0mgpr\u001b[0m\u001b[1;33m,\u001b[0m \u001b[0mGrouper\u001b[0m\u001b[1;33m)\u001b[0m \u001b[1;32mand\u001b[0m \u001b[0mgpr\u001b[0m\u001b[1;33m.\u001b[0m\u001b[0mkey\u001b[0m \u001b[1;32mis\u001b[0m \u001b[1;32mnot\u001b[0m \u001b[1;32mNone\u001b[0m\u001b[1;33m:\u001b[0m\u001b[1;33m\u001b[0m\u001b[1;33m\u001b[0m\u001b[0m\n\u001b[0;32m    783\u001b[0m             \u001b[1;31m# Add key to exclusions\u001b[0m\u001b[1;33m\u001b[0m\u001b[1;33m\u001b[0m\u001b[1;33m\u001b[0m\u001b[0m\n",
      "\u001b[1;31mKeyError\u001b[0m: 'Drug Regimen'"
     ]
    }
   ],
   "source": [
    "# Generate a summary statistics table of mean, median, variance, standard deviation, and SEM of the tumor volume for each regimen\n",
    "\n",
    "#Here's my initial code:\n",
    "#  tsummary_TV_bydrug = summary_TV_bydrug.groupby(by=\"Drug Regimen\")???\n",
    "\n",
    "\n",
    "\n",
    "# Using the aggregation method, produce the same summary statistics in a single line\n"
   ]
  },
  {
   "cell_type": "markdown",
   "metadata": {},
   "source": [
    "## Bar and Pie Charts"
   ]
  },
  {
   "cell_type": "code",
   "execution_count": 9,
   "metadata": {},
   "outputs": [],
   "source": [
    "# Generate a bar plot showing the total number of measurements taken on each drug regimen using pandas.\n",
    "\n",
    "totale \n",
    "\n"
   ]
  },
  {
   "cell_type": "code",
   "execution_count": 10,
   "metadata": {},
   "outputs": [],
   "source": [
    "# Generate a bar plot showing the total number of measurements taken on each drug regimen using pyplot.\n",
    "\n"
   ]
  },
  {
   "cell_type": "code",
   "execution_count": 11,
   "metadata": {},
   "outputs": [],
   "source": [
    "# Generate a pie plot showing the distribution of female versus male mice using pandas\n",
    "\n"
   ]
  },
  {
   "cell_type": "code",
   "execution_count": 12,
   "metadata": {},
   "outputs": [],
   "source": [
    "# Generate a pie plot showing the distribution of female versus male mice using pyplot\n",
    "\n"
   ]
  },
  {
   "cell_type": "markdown",
   "metadata": {},
   "source": [
    "## Quartiles, Outliers and Boxplots"
   ]
  },
  {
   "cell_type": "code",
   "execution_count": 13,
   "metadata": {},
   "outputs": [],
   "source": [
    "# Calculate the final tumor volume of each mouse across four of the treatment regimens:  \n",
    "# Capomulin, Ramicane, Infubinol, and Ceftamin\n",
    "\n",
    "# Start by getting the last (greatest) timepoint for each mouse\n",
    "\n",
    "\n",
    "# Merge this group df with the original dataframe to get the tumor volume at the last timepoint\n"
   ]
  },
  {
   "cell_type": "code",
   "execution_count": 14,
   "metadata": {},
   "outputs": [],
   "source": [
    "# Put treatments into a list for for loop (and later for plot labels)\n",
    "\n",
    "\n",
    "# Create empty list to fill with tumor vol data (for plotting)\n",
    "\n",
    "\n",
    "# Calculate the IQR and quantitatively determine if there are any potential outliers. \n",
    "\n",
    "    \n",
    "    # Locate the rows which contain mice on each drug and get the tumor volumes\n",
    "    \n",
    "    \n",
    "    # add subset \n",
    "    \n",
    "    \n",
    "    # Determine outliers using upper and lower bounds\n",
    "    "
   ]
  },
  {
   "cell_type": "code",
   "execution_count": 15,
   "metadata": {},
   "outputs": [],
   "source": [
    "# Generate a box plot of the final tumor volume of each mouse across four regimens of interest\n"
   ]
  },
  {
   "cell_type": "markdown",
   "metadata": {},
   "source": [
    "## Line and Scatter Plots"
   ]
  },
  {
   "cell_type": "code",
   "execution_count": 16,
   "metadata": {},
   "outputs": [],
   "source": [
    "# Generate a line plot of tumor volume vs. time point for a mouse treated with Capomulin\n"
   ]
  },
  {
   "cell_type": "code",
   "execution_count": 17,
   "metadata": {},
   "outputs": [],
   "source": [
    "# Generate a scatter plot of average tumor volume vs. mouse weight for the Capomulin regimen\n"
   ]
  },
  {
   "cell_type": "markdown",
   "metadata": {},
   "source": [
    "## Correlation and Regression"
   ]
  },
  {
   "cell_type": "code",
   "execution_count": 18,
   "metadata": {},
   "outputs": [],
   "source": [
    "# Calculate the correlation coefficient and linear regression model \n",
    "# for mouse weight and average tumor volume for the Capomulin regimen\n"
   ]
  },
  {
   "cell_type": "code",
   "execution_count": null,
   "metadata": {},
   "outputs": [],
   "source": []
  }
 ],
 "metadata": {
  "anaconda-cloud": {},
  "kernelspec": {
   "name": "python385jvsc74a57bd00e743a73a4dc02820e98b24a29a060fb96a73a66fcac2380cf0cf9276fc654b8",
   "display_name": "Python 3.8.5 64-bit ('base': conda)"
  },
  "language_info": {
   "codemirror_mode": {
    "name": "ipython",
    "version": 3
   },
   "file_extension": ".py",
   "mimetype": "text/x-python",
   "name": "python",
   "nbconvert_exporter": "python",
   "pygments_lexer": "ipython3",
   "version": "3.8.5"
  }
 },
 "nbformat": 4,
 "nbformat_minor": 4
}